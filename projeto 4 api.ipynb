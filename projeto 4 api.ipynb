{
 "cells": [
  {
   "cell_type": "code",
   "execution_count": 19,
   "metadata": {},
   "outputs": [],
   "source": [
    "import requests\n",
    "import pandas as pd\n",
    "from pprint import PrettyPrinter\n",
    "pp = PrettyPrinter()\n",
    "from pandas import json_normalize\n",
    "from datetime import datetime"
   ]
  },
  {
   "cell_type": "code",
   "execution_count": 24,
   "metadata": {},
   "outputs": [],
   "source": [
    "#pedir a data de início dos dados\n",
    "data_ini_usu = input(str('Digite a data inicial no formato dia/mês/ano: '))\n",
    "#transformar a data de início para o formato do API\n",
    "data_ini_usu = datetime.strptime(data_ini_usu, '%d/%m/%Y')\n",
    "data_ini_usu = data_ini_usu.strftime('%Y-%m-%d')\n",
    "\n",
    "#pedir a data de fim dos dados\n",
    "data_fim_usu = input(str('Digite a data final no formato dia/mês/ano: '))\n",
    "#transformar a data de fim para o formato do API\n",
    "data_fim_usu = datetime.strptime(data_fim_usu, '%d/%m/%Y')\n",
    "data_fim_usu = data_fim_usu.strftime('%Y-%m-%d')"
   ]
  },
  {
   "cell_type": "code",
   "execution_count": 64,
   "metadata": {},
   "outputs": [],
   "source": [
    "# solicitar no API e salvar em parquet\n",
    "def api_apod(data_ini = data_ini_usu,data_fim= data_fim_usu):\n",
    "    url = 'https://api.nasa.gov/planetary/apod'\n",
    "    parametros = {\n",
    "        'start_date': data_ini,\n",
    "        'end_date': data_fim,\n",
    "        'hd':True,\n",
    "        'api_key':'qM1CGrGFcGQymERYupWhCzNHwSbw4jwc6hpbZ5WE'\n",
    "        }\n",
    "    response = requests.get(url,params=parametros).json()\n",
    "    df_apod = json_normalize(response)\n",
    "    df_apod = df_apod[['date','title','url']]\n",
    "    df_apod = df_apod.set_axis(['data', 'titulo', 'url'], axis=1)\n",
    "    return df_apod"
   ]
  }
 ],
 "metadata": {
  "kernelspec": {
   "display_name": "venv",
   "language": "python",
   "name": "python3"
  },
  "language_info": {
   "codemirror_mode": {
    "name": "ipython",
    "version": 3
   },
   "file_extension": ".py",
   "mimetype": "text/x-python",
   "name": "python",
   "nbconvert_exporter": "python",
   "pygments_lexer": "ipython3",
   "version": "3.12.1"
  }
 },
 "nbformat": 4,
 "nbformat_minor": 2
}
